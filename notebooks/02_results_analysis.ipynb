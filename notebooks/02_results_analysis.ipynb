{
 "cells": [
  {
   "cell_type": "markdown",
   "metadata": {},
   "source": [
    "# Results Analysis for Hindi BabyLM\n",
    "\n",
    "This notebook analyzes experimental results:\n",
    "- Training curves comparison\n",
    "- Evaluation metrics visualization  \n",
    "- Statistical significance testing\n",
    "- Model comparison\n",
    "- Thesis figure generation"
   ]
  },
  {
   "cell_type": "code",
   "execution_count": 6,
   "metadata": {},
   "outputs": [
    {
     "name": "stdout",
     "output_type": "stream",
     "text": [
      "✅ Imports successful!\n"
     ]
    }
   ],
   "source": [
    "import sys\n",
    "from pathlib import Path\n",
    "import os\n",
    "\n",
    "# Add project root to Python path for cluster\n",
    "current = Path.cwd()\n",
    "if current.name == 'workspace' or 'workspace' in str(current):\n",
    "    project_root = current.parent / 'dss' / 'dsshome1' / '00' / 'ge95xod2' / 'Hindi-BabyLM-Data-Efficient-Language-Modeling-for-Hindi'\n",
    "else:\n",
    "    project_root = current.parent if current.name == 'notebooks' else current\n",
    "\n",
    "sys.path.insert(0, str(project_root))\n",
    "\n",
    "import pandas as pd\n",
    "import numpy as np\n",
    "import matplotlib.pyplot as plt\n",
    "import seaborn as sns\n",
    "\n",
    "# Project imports\n",
    "from src.analysis.results_analyzer import ResultsAnalyzer, analyze_experiments\n",
    "from src.analysis.visualization_utils import ThesisPlotter\n",
    "\n",
    "# Set plotting style\n",
    "sns.set_style('whitegrid')\n",
    "plt.rcParams['figure.figsize'] = (12, 6)\n",
    "\n",
    "print(\"✅ Imports successful!\")"
   ]
  },
  {
   "cell_type": "markdown",
   "metadata": {},
   "source": [
    "## 1. Load Experimental Results"
   ]
  },
  {
   "cell_type": "code",
   "execution_count": 10,
   "metadata": {},
   "outputs": [
    {
     "name": "stdout",
     "output_type": "stream",
     "text": [
      "Loaded 2 experiments:\n",
      "  - 5354107_complete_pipeline\n",
      "  - 5354274_complete_pipeline\n"
     ]
    }
   ],
   "source": [
    "# Initialize results analyzer\n",
    "analyzer = analyze_experiments(results_dir=os.path.join(project_root,'results'))\n",
    "\n",
    "print(f\"Loaded {len(analyzer.experiments)} experiments:\")\n",
    "for exp_name in analyzer.experiments.keys():\n",
    "    print(f\"  - {exp_name}\")"
   ]
  },
  {
   "cell_type": "markdown",
   "metadata": {},
   "source": [
    "## 2. Training Curves Comparison"
   ]
  },
  {
   "cell_type": "code",
   "execution_count": 11,
   "metadata": {},
   "outputs": [
    {
     "name": "stderr",
     "output_type": "stream",
     "text": [
      "/dss/dsshome1/00/ge95xod2/Hindi-BabyLM-Data-Efficient-Language-Modeling-for-Hindi/src/analysis/results_analyzer.py:196: UserWarning: No artists with labels found to put in legend.  Note that artists whose label start with an underscore are ignored when legend() is called with no argument.\n",
      "  ax.legend()\n",
      "/dss/dsshome1/00/ge95xod2/Hindi-BabyLM-Data-Efficient-Language-Modeling-for-Hindi/src/analysis/results_analyzer.py:196: UserWarning: No artists with labels found to put in legend.  Note that artists whose label start with an underscore are ignored when legend() is called with no argument.\n",
      "  ax.legend()\n"
     ]
    },
    {
     "data": {
      "image/png": "[encoded data removed]",
      "text/plain": [
       "<Figure size 1200x500 with 2 Axes>"
      ]
     },
     "metadata": {},
     "output_type": "display_data"
    },
    {
     "name": "stdout",
     "output_type": "stream",
     "text": [
      "✅ Training curves saved\n"
     ]
    }
   ],
   "source": [
    "# Plot training curves for all experiments\n",
    "fig = analyzer.plot_training_curves(\n",
    "    metrics=['loss', 'perplexity'],\n",
    "    save_path=os.path.join(project_root,'figures/training_curves.png')\n",
    ")\n",
    "\n",
    "plt.show()\n",
    "print(\"✅ Training curves saved\")"
   ]
  },
  {
   "cell_type": "markdown",
   "metadata": {},
   "source": [
    "## 3. IndicGLUE Evaluation Comparison"
   ]
  },
  {
   "cell_type": "code",
   "execution_count": 12,
   "metadata": {},
   "outputs": [
    {
     "name": "stderr",
     "output_type": "stream",
     "text": [
      "No indicglue results found\n"
     ]
    },
    {
     "data": {
      "text/plain": [
       "<Figure size 1200x600 with 0 Axes>"
      ]
     },
     "metadata": {},
     "output_type": "display_data"
    },
    {
     "name": "stdout",
     "output_type": "stream",
     "text": [
      "✅ IndicGLUE comparison saved\n"
     ]
    }
   ],
   "source": [
    "# Compare IndicGLUE performance\n",
    "fig = analyzer.plot_evaluation_comparison(\n",
    "    eval_type='indicglue',\n",
    "    save_path=os.path.join(project_root,'figures/indicglue_comparison.png')\n",
    ")\n",
    "\n",
    "plt.show()\n",
    "print(\"✅ IndicGLUE comparison saved\")"
   ]
  },
  {
   "cell_type": "markdown",
   "metadata": {},
   "source": [
    "## 4. MultiBLiMP Syntactic Evaluation"
   ]
  },
  {
   "cell_type": "code",
   "execution_count": 13,
   "metadata": {},
   "outputs": [
    {
     "name": "stderr",
     "output_type": "stream",
     "text": [
      "No multiblimp results found\n"
     ]
    },
    {
     "data": {
      "text/plain": [
       "<Figure size 1200x600 with 0 Axes>"
      ]
     },
     "metadata": {},
     "output_type": "display_data"
    },
    {
     "name": "stdout",
     "output_type": "stream",
     "text": [
      "✅ MultiBLiMP comparison saved\n"
     ]
    }
   ],
   "source": [
    "# Compare MultiBLiMP performance\n",
    "fig = analyzer.plot_evaluation_comparison(\n",
    "    eval_type='multiblimp',\n",
    "    save_path=os.path.join(project_root,'figures/multiblimp_comparison.png')\n",
    ")\n",
    "\n",
    "plt.show()\n",
    "print(\"✅ MultiBLiMP comparison saved\")"
   ]
  },
  {
   "cell_type": "markdown",
   "metadata": {},
   "source": [
    "## 5. Morphological Probes Analysis"
   ]
  },
  {
   "cell_type": "code",
   "execution_count": 14,
   "metadata": {},
   "outputs": [
    {
     "name": "stderr",
     "output_type": "stream",
     "text": [
      "No probes results found\n"
     ]
    },
    {
     "data": {
      "text/plain": [
       "<Figure size 1200x600 with 0 Axes>"
      ]
     },
     "metadata": {},
     "output_type": "display_data"
    },
    {
     "name": "stdout",
     "output_type": "stream",
     "text": [
      "✅ Morphological probes comparison saved\n"
     ]
    }
   ],
   "source": [
    "# Compare morphological probe performance\n",
    "fig = analyzer.plot_evaluation_comparison(\n",
    "    eval_type='probes',\n",
    "    save_path=os.path.join(project_root,'figures/morphological_probes_comparison.png')\n",
    ")\n",
    "\n",
    "plt.show()\n",
    "print(\"✅ Morphological probes comparison saved\")"
   ]
  },
  {
   "cell_type": "markdown",
   "metadata": {},
   "source": [
    "## 6. Statistical Significance Testing"
   ]
  },
  {
   "cell_type": "code",
   "execution_count": 15,
   "metadata": {},
   "outputs": [
    {
     "name": "stdout",
     "output_type": "stream",
     "text": [
      "Comparing: 5354107_complete_pipeline vs 5354274_complete_pipeline\n",
      "\n",
      "📊 Statistical Comparison:\n",
      "\n",
      "Summary Statistics:\n"
     ]
    },
    {
     "ename": "KeyError",
     "evalue": "'summary'",
     "output_type": "error",
     "traceback": [
      "\u001b[0;31m---------------------------------------------------------------------------\u001b[0m",
      "\u001b[0;31mKeyError\u001b[0m                                  Traceback (most recent call last)",
      "Cell \u001b[0;32mIn[15], line 18\u001b[0m\n\u001b[1;32m     16\u001b[0m \u001b[38;5;28mprint\u001b[39m(\u001b[38;5;124m\"\u001b[39m\u001b[38;5;124m📊 Statistical Comparison:\u001b[39m\u001b[38;5;124m\"\u001b[39m)\n\u001b[1;32m     17\u001b[0m \u001b[38;5;28mprint\u001b[39m(\u001b[38;5;124mf\u001b[39m\u001b[38;5;124m\"\u001b[39m\u001b[38;5;130;01m\\n\u001b[39;00m\u001b[38;5;124mSummary Statistics:\u001b[39m\u001b[38;5;124m\"\u001b[39m)\n\u001b[0;32m---> 18\u001b[0m \u001b[38;5;28mprint\u001b[39m(\u001b[38;5;124mf\u001b[39m\u001b[38;5;124m\"\u001b[39m\u001b[38;5;124m  \u001b[39m\u001b[38;5;132;01m{\u001b[39;00mexp1\u001b[38;5;132;01m}\u001b[39;00m\u001b[38;5;124m mean: \u001b[39m\u001b[38;5;132;01m{\u001b[39;00mcomparison[\u001b[38;5;124m'\u001b[39m\u001b[38;5;124msummary\u001b[39m\u001b[38;5;124m'\u001b[39m][\u001b[38;5;124m'\u001b[39m\u001b[38;5;124mexp1_mean\u001b[39m\u001b[38;5;124m'\u001b[39m]\u001b[38;5;132;01m:\u001b[39;00m\u001b[38;5;124m.4f\u001b[39m\u001b[38;5;132;01m}\u001b[39;00m\u001b[38;5;124m ± \u001b[39m\u001b[38;5;132;01m{\u001b[39;00mcomparison[\u001b[38;5;124m'\u001b[39m\u001b[38;5;124msummary\u001b[39m\u001b[38;5;124m'\u001b[39m][\u001b[38;5;124m'\u001b[39m\u001b[38;5;124mexp1_std\u001b[39m\u001b[38;5;124m'\u001b[39m]\u001b[38;5;132;01m:\u001b[39;00m\u001b[38;5;124m.4f\u001b[39m\u001b[38;5;132;01m}\u001b[39;00m\u001b[38;5;124m\"\u001b[39m)\n\u001b[1;32m     19\u001b[0m \u001b[38;5;28mprint\u001b[39m(\u001b[38;5;124mf\u001b[39m\u001b[38;5;124m\"\u001b[39m\u001b[38;5;124m  \u001b[39m\u001b[38;5;132;01m{\u001b[39;00mexp2\u001b[38;5;132;01m}\u001b[39;00m\u001b[38;5;124m mean: \u001b[39m\u001b[38;5;132;01m{\u001b[39;00mcomparison[\u001b[38;5;124m'\u001b[39m\u001b[38;5;124msummary\u001b[39m\u001b[38;5;124m'\u001b[39m][\u001b[38;5;124m'\u001b[39m\u001b[38;5;124mexp2_mean\u001b[39m\u001b[38;5;124m'\u001b[39m]\u001b[38;5;132;01m:\u001b[39;00m\u001b[38;5;124m.4f\u001b[39m\u001b[38;5;132;01m}\u001b[39;00m\u001b[38;5;124m ± \u001b[39m\u001b[38;5;132;01m{\u001b[39;00mcomparison[\u001b[38;5;124m'\u001b[39m\u001b[38;5;124msummary\u001b[39m\u001b[38;5;124m'\u001b[39m][\u001b[38;5;124m'\u001b[39m\u001b[38;5;124mexp2_std\u001b[39m\u001b[38;5;124m'\u001b[39m]\u001b[38;5;132;01m:\u001b[39;00m\u001b[38;5;124m.4f\u001b[39m\u001b[38;5;132;01m}\u001b[39;00m\u001b[38;5;124m\"\u001b[39m)\n\u001b[1;32m     20\u001b[0m \u001b[38;5;28mprint\u001b[39m(\u001b[38;5;124mf\u001b[39m\u001b[38;5;124m\"\u001b[39m\u001b[38;5;124m  Difference: \u001b[39m\u001b[38;5;132;01m{\u001b[39;00mcomparison[\u001b[38;5;124m'\u001b[39m\u001b[38;5;124msummary\u001b[39m\u001b[38;5;124m'\u001b[39m][\u001b[38;5;124m'\u001b[39m\u001b[38;5;124mdifference\u001b[39m\u001b[38;5;124m'\u001b[39m]\u001b[38;5;132;01m:\u001b[39;00m\u001b[38;5;124m.4f\u001b[39m\u001b[38;5;132;01m}\u001b[39;00m\u001b[38;5;124m\"\u001b[39m)\n",
      "\u001b[0;31mKeyError\u001b[0m: 'summary'"
     ]
    }
   ],
   "source": [
    "# Compare two best models statistically\n",
    "experiments = list(analyzer.experiments.keys())\n",
    "\n",
    "if len(experiments) >= 2:\n",
    "    exp1, exp2 = experiments[0], experiments[1]\n",
    "    \n",
    "    print(f\"Comparing: {exp1} vs {exp2}\\n\")\n",
    "    \n",
    "    # Statistical comparison\n",
    "    comparison = analyzer.compare_models_statistically(\n",
    "        exp1, exp2,\n",
    "        metric='accuracy',\n",
    "        eval_type='indicglue'\n",
    "    )\n",
    "    \n",
    "    print(\"📊 Statistical Comparison:\")\n",
    "    print(f\"\\nSummary Statistics:\")\n",
    "    print(f\"  {exp1} mean: {comparison['summary']['exp1_mean']:.4f} ± {comparison['summary']['exp1_std']:.4f}\")\n",
    "    print(f\"  {exp2} mean: {comparison['summary']['exp2_mean']:.4f} ± {comparison['summary']['exp2_std']:.4f}\")\n",
    "    print(f\"  Difference: {comparison['summary']['difference']:.4f}\")\n",
    "    \n",
    "    print(f\"\\nPaired t-test:\")\n",
    "    print(f\"  p-value: {comparison['t_test']['p_value']:.4f}\")\n",
    "    print(f\"  Significant: {'Yes ✓' if comparison['t_test']['significant'] else 'No ✗'}\")\n",
    "    \n",
    "    print(f\"\\nWilcoxon test:\")\n",
    "    print(f\"  p-value: {comparison['wilcoxon']['p_value']:.4f}\")\n",
    "    print(f\"  Significant: {'Yes ✓' if comparison['wilcoxon']['significant'] else 'No ✗'}\")\n",
    "    \n",
    "    print(f\"\\nEffect Size:\")\n",
    "    print(f\"  Cohen's d: {comparison['effect_size']['cohens_d']:.4f}\")\n",
    "    print(f\"  Interpretation: {comparison['effect_size']['interpretation']}\")\n",
    "    \n",
    "    print(f\"\\nBootstrap 95% CI:\")\n",
    "    print(f\"  [{comparison['bootstrap_ci']['lower']:.4f}, {comparison['bootstrap_ci']['upper']:.4f}]\")\n",
    "else:\n",
    "    print(\"Need at least 2 experiments for comparison\")"
   ]
  },
  {
   "cell_type": "markdown",
   "metadata": {},
   "source": [
    "## 7. Generate LaTeX Tables for Thesis"
   ]
  },
  {
   "cell_type": "code",
   "execution_count": null,
   "metadata": {},
   "outputs": [],
   "source": [
    "# Generate LaTeX table for IndicGLUE\n",
    "latex_table = analyzer.generate_latex_table(\n",
    "    eval_type='indicglue',\n",
    "    metric='accuracy',\n",
    "    caption='IndicGLUE Benchmark Results',\n",
    "    label='tab:indicglue_results',\n",
    "    save_path=os.path.join(project_root,'tables/indicglue_results.tex')\n",
    ")\n",
    "\n",
    "print(\"IndicGLUE LaTeX Table:\")\n",
    "print(latex_table)\n",
    "print(\"\\n✅ LaTeX table saved to tables/indicglue_results.tex\")"
   ]
  },
  {
   "cell_type": "code",
   "execution_count": null,
   "metadata": {},
   "outputs": [],
   "source": [
    "# Generate LaTeX table for MultiBLiMP\n",
    "latex_table = analyzer.generate_latex_table(\n",
    "    eval_type='multiblimp',\n",
    "    metric='accuracy',\n",
    "    caption='MultiBLiMP Syntactic Phenomena Results',\n",
    "    label='tab:multiblimp_results',\n",
    "    save_path=os.path.join(project_root,'tables/multiblimp_results.tex')\n",
    ")\n",
    "\n",
    "print(\"✅ MultiBLiMP LaTeX table saved\")"
   ]
  },
  {
   "cell_type": "markdown",
   "metadata": {},
   "source": [
    "## 8. Layer-wise Probe Visualization"
   ]
  },
  {
   "cell_type": "code",
   "execution_count": null,
   "metadata": {},
   "outputs": [],
   "source": [
    "# Visualize layer-wise probe results\n",
    "plotter = ThesisPlotter(style='thesis')\n",
    "\n",
    "# Example: Case detection probe\n",
    "# (Replace with actual data from your experiments)\n",
    "layer_results = {i: 0.5 + 0.03 * i + np.random.normal(0, 0.02) \n",
    "                for i in range(13)}\n",
    "\n",
    "fig = plotter.plot_layer_wise_probe_results(\n",
    "    layer_results,\n",
    "    probe_name='Case Detection',\n",
    "    title='Layer-wise Case Detection Accuracy',\n",
    "    save_path=os.path.join(project_root,'figures/layer_wise_case_probe.png')\n",
    ")\n",
    "\n",
    "plt.show()\n",
    "print(\"✅ Layer-wise probe visualization saved\")"
   ]
  },
  {
   "cell_type": "markdown",
   "metadata": {},
   "source": [
    "## 9. Model Size vs Performance"
   ]
  },
  {
   "cell_type": "code",
   "execution_count": null,
   "metadata": {},
   "outputs": [],
   "source": [
    "# Plot performance vs model size\n",
    "# (Replace with actual data)\n",
    "model_sizes = [50, 110, 350]  # Millions of parameters\n",
    "accuracies = [0.72, 0.78, 0.82]\n",
    "model_names = ['Tiny', 'Small', 'Medium']\n",
    "\n",
    "fig = plotter.plot_performance_vs_model_size(\n",
    "    model_sizes,\n",
    "    accuracies,\n",
    "    model_names,\n",
    "    title='Model Size vs IndicGLUE Performance',\n",
    "    save_path=os.path.join(project_root,'figures/model_size_vs_performance.png')\n",
    ")\n",
    "\n",
    "plt.show()\n",
    "print(\"✅ Model size comparison saved\")"
   ]
  },
  {
   "cell_type": "markdown",
   "metadata": {},
   "source": [
    "## 10. Generate Individual Experiment Reports"
   ]
  },
  {
   "cell_type": "code",
   "execution_count": null,
   "metadata": {},
   "outputs": [],
   "source": [
    "# Generate reports for each experiment\n",
    "for exp_name in analyzer.experiments.keys():\n",
    "    report = analyzer.generate_summary_report(\n",
    "        exp_name,\n",
    "        save_path=f'../reports/{exp_name}_report.md'\n",
    "    )\n",
    "    print(f\"✅ Generated report for {exp_name}\")\n",
    "\n",
    "print(\"\\nAll reports saved to reports/ directory\")"
   ]
  },
  {
   "cell_type": "markdown",
   "metadata": {},
   "source": [
    "## Summary\n",
    "\n",
    "This notebook analyzed:\n",
    "- ✅ Training curves and convergence\n",
    "- ✅ Evaluation metrics across benchmarks\n",
    "- ✅ Statistical significance of differences\n",
    "- ✅ LaTeX tables for thesis\n",
    "- ✅ Layer-wise probing analysis\n",
    "- ✅ Model size comparisons\n",
    "\n",
    "All figures and tables ready for thesis inclusion!"
   ]
  }
 ],
 "metadata": {
  "kernelspec": {
   "display_name": "hindi_babylm",
   "language": "python",
   "name": "hindi_babylm"
  },
  "language_info": {
   "codemirror_mode": {
    "name": "ipython",
    "version": 3
   },
   "file_extension": ".py",
   "mimetype": "text/x-python",
   "name": "python",
   "nbconvert_exporter": "python",
   "pygments_lexer": "ipython3",
   "version": "3.9.23"
  }
 },
 "nbformat": 4,
 "nbformat_minor": 4
}
